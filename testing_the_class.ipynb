{
 "cells": [
  {
   "cell_type": "code",
   "execution_count": 1,
   "metadata": {},
   "outputs": [],
   "source": [
    "from create_setpoints_class import *"
   ]
  },
  {
   "cell_type": "code",
   "execution_count": 2,
   "metadata": {},
   "outputs": [],
   "source": [
    "# initialize the object\n",
    "D = create_FEHM_run('test1','param_file.csv')"
   ]
  },
  {
   "cell_type": "code",
   "execution_count": 3,
   "metadata": {},
   "outputs": [
    {
     "data": {
      "text/plain": [
       "333.3333333333333"
      ]
     },
     "execution_count": 3,
     "metadata": {},
     "output_type": "execute_result"
    }
   ],
   "source": [
    "D.dz"
   ]
  },
  {
   "cell_type": "code",
   "execution_count": 4,
   "metadata": {},
   "outputs": [],
   "source": [
    "# build surfaces based on grid\n",
    "D.build_surfaces_real('testy_test.dat')"
   ]
  },
  {
   "cell_type": "code",
   "execution_count": 5,
   "metadata": {},
   "outputs": [
    {
     "data": {
      "image/png": "[encoded data removed]",
      "text/plain": [
       "<Figure size 432x288 with 2 Axes>"
      ]
     },
     "metadata": {
      "needs_background": "light"
     },
     "output_type": "display_data"
    }
   ],
   "source": [
    "# plot upper and lower surfaces\n",
    "D.plot_upper_surface()"
   ]
  },
  {
   "cell_type": "code",
   "execution_count": 6,
   "metadata": {},
   "outputs": [],
   "source": [
    "# save the csv file with coordinates\n",
    "D.save_coords_csv()"
   ]
  },
  {
   "cell_type": "code",
   "execution_count": 7,
   "metadata": {},
   "outputs": [],
   "source": [
    "# test reading the boundary file\n",
    "D.read_boundary_file('QCF_line.bln')"
   ]
  },
  {
   "cell_type": "code",
   "execution_count": 8,
   "metadata": {},
   "outputs": [
    {
     "name": "stderr",
     "output_type": "stream",
     "text": [
      "/mnt/c/Users/rperrin/OneDrive - University of Calgary/Geofluids/FEHM_tests/testing_column/create_setpoints_class.py:203: SettingWithCopyWarning: \n",
      "A value is trying to be set on a copy of a slice from a DataFrame\n",
      "\n",
      "See the caveats in the documentation: https://pandas.pydata.org/pandas-docs/stable/user_guide/indexing.html#returning-a-view-versus-a-copy\n",
      "  self.DF.upp_surf[index] = self.fsurf(self.DF.x[index].copy(),self.DF.y[index].copy())\n",
      "/mnt/c/Users/rperrin/OneDrive - University of Calgary/Geofluids/FEHM_tests/testing_column/create_setpoints_class.py:220: SettingWithCopyWarning: \n",
      "A value is trying to be set on a copy of a slice from a DataFrame\n",
      "\n",
      "See the caveats in the documentation: https://pandas.pydata.org/pandas-docs/stable/user_guide/indexing.html#returning-a-view-versus-a-copy\n",
      "  self.DF.mat_zone[self.DF.x[:].copy() > self.DF.x_boun[:].copy()] = 3  # setting continental crust\n",
      "/mnt/c/Users/rperrin/OneDrive - University of Calgary/Geofluids/FEHM_tests/testing_column/create_setpoints_class.py:221: SettingWithCopyWarning: \n",
      "A value is trying to be set on a copy of a slice from a DataFrame\n",
      "\n",
      "See the caveats in the documentation: https://pandas.pydata.org/pandas-docs/stable/user_guide/indexing.html#returning-a-view-versus-a-copy\n",
      "  self.DF.mat_zone[self.DF.x[:].copy() <= self.DF.x_boun[:].copy()] = 2  # setting oceanic crust\n",
      "/mnt/c/Users/rperrin/OneDrive - University of Calgary/Geofluids/FEHM_tests/testing_column/create_setpoints_class.py:222: SettingWithCopyWarning: \n",
      "A value is trying to be set on a copy of a slice from a DataFrame\n",
      "\n",
      "See the caveats in the documentation: https://pandas.pydata.org/pandas-docs/stable/user_guide/indexing.html#returning-a-view-versus-a-copy\n",
      "  self.DF.mat_zone[self.DF.z[:].copy() < self.DF.low_surf[:].copy()] = 1  # setting below the crust\n",
      "/mnt/c/Users/rperrin/OneDrive - University of Calgary/Geofluids/FEHM_tests/testing_column/create_setpoints_class.py:223: SettingWithCopyWarning: \n",
      "A value is trying to be set on a copy of a slice from a DataFrame\n",
      "\n",
      "See the caveats in the documentation: https://pandas.pydata.org/pandas-docs/stable/user_guide/indexing.html#returning-a-view-versus-a-copy\n",
      "  self.DF.mat_zone[self.DF.z[:].copy() > self.DF.upp_surf[:].copy()] = 4  # setting the sediment zone\n"
     ]
    }
   ],
   "source": [
    "# test making the zone files\n",
    "D.build_zones()"
   ]
  },
  {
   "cell_type": "markdown",
   "metadata": {},
   "source": [
    "### variable material properties in the sediment column\n",
    "This section builds the prototype for populating the sediment column with variable porosity and corresponding thermal conductivity."
   ]
  },
  {
   "cell_type": "code",
   "execution_count": 9,
   "metadata": {},
   "outputs": [],
   "source": [
    "# open a mat properties file\n",
    "# mat_properties_filename = 'mat_properties_test.prop'\n",
    "# PZ = open(mat_properties_filename,'w+')\n",
    "\n",
    "# # open a conductivity file\n",
    "# mat_cond_filename = 'mat_cond_test.cond'\n",
    "# CZ = open(mat_cond_filename,'w+')\n",
    "\n",
    "# # populate the file yo!\n",
    "# rock_density = 2500\n",
    "# rock_spec_heat = 2000\n",
    "# aquifer_porosity = 0.3\n",
    "# basement_porosity = 0.3\n",
    "# solids_cond = 2\n",
    "# water_cond = 0.604\n",
    "# basement_cond = 2\n",
    "# aquifer_cond = 2\n",
    "\n",
    "# PZ.write('rock\\n')\n",
    "# CZ.write('cond\\n')\n",
    "# for x in D.node_nums_upper:\n",
    "#     temp_depth = D.max_z - D.ZZ_out[x-1]\n",
    "#     temp_porosity = 0.7136*np.exp(-0.3714*temp_depth/1000)\n",
    "#     temp_cond = solids_cond**(1 - temp_porosity) * water_cond**(temp_porosity)\n",
    "#     PZ.write('  %d  %d  1  %d  %d  %.1f\\n' % (x,x,rock_density,rock_spec_heat,temp_porosity))\n",
    "#     CZ.write('  %d  %d  1  %.2f  %.2f  %.2f\\n' % (x,x,temp_cond,temp_cond,temp_cond))\n",
    "# for x in D.node_nums_middle_ocean:\n",
    "#     PZ.write('  %d  %d  1  %d  %d  %.1f\\n' % (x,x,rock_density,rock_spec_heat,aquifer_porosity))\n",
    "#     CZ.write('  %d  %d  1  %.2f  %.2f  %.2f\\n' % (x,x,aquifer_cond,aquifer_cond,aquifer_cond))\n",
    "# for x in D.node_nums_middle_continental:\n",
    "#     PZ.write('  %d  %d  1  %d  %d  %.1f\\n' % (x,x,rock_density,rock_spec_heat,aquifer_porosity))\n",
    "#     CZ.write('  %d  %d  1  %.2f  %.2f  %.2f\\n' % (x,x,aquifer_cond,aquifer_cond,aquifer_cond))\n",
    "# for x in D.node_nums_bottom:\n",
    "#     PZ.write('  %d  %d  1  %d  %d  %.1f\\n' % (x,x,rock_density,rock_spec_heat,basement_porosity))\n",
    "#     CZ.write('  %d  %d  1  %.2f  %.2f  %.2f\\n' % (x,x,basement_cond,basement_cond,basement_cond))\n",
    "# PZ.write('\\nstop')\n",
    "# PZ.close()\n",
    "# CZ.write('\\nstop')\n",
    "# CZ.close()"
   ]
  },
  {
   "cell_type": "code",
   "execution_count": 10,
   "metadata": {},
   "outputs": [],
   "source": [
    "D.build_mat_prop_files(0.7136,-0.3714)"
   ]
  },
  {
   "cell_type": "markdown",
   "metadata": {},
   "source": [
    "### build the prototype for varying heat flow\n",
    "This will vary the heat flow across the domain based on age"
   ]
  },
  {
   "cell_type": "code",
   "execution_count": 11,
   "metadata": {},
   "outputs": [],
   "source": [
    "# bring in age grid - colocated with the surface grid"
   ]
  },
  {
   "cell_type": "code",
   "execution_count": 12,
   "metadata": {},
   "outputs": [
    {
     "name": "stdout",
     "output_type": "stream",
     "text": [
      " \n",
      " \n",
      "*               * * * * * * * * * * * * * * * * * * * * * * * *                 \n",
      "*               *                                             *                 \n",
      "*               *    Program:  LaGriT V3.320   Linux          *                 \n",
      "*               *    date_compile: 2021/09/26 Release         *                 \n",
      "*               *    Run Time: 2021/Nov 13  12:44:34          *                 \n",
      "*               *    Manual:   http://lagrit.lanl.gov         *                 \n",
      "*               *                                             *                 \n",
      "*               * * * * * * * * * * * * * * * * * * * * * * * *                 \n",
      " \n",
      "                               -----oOo-----                                    \n",
      "             LaGriT V3 LA-CC-15-069  https://github.com/lanl/LaGriT             \n",
      "  Copyright 2016. Triad National Security, LLC.  All rights reserved. This      \n",
      "  program was produced under U.S. Government contract 89233218CNA000001         \n",
      "  for Los Alamos National Laboratory (LANL), which is operated by Triad         \n",
      "  National Security, LLC for the U.S. Department of Energy/National Nuclear     \n",
      "  Security Administration.  All rights in the program are reserved by Triad     \n",
      "  National Security, LLC, and the U.S. Department of Energy/National Nuclear    \n",
      "  Security Administration. The Government is granted for itself and others      \n",
      "  acting on its behalf a nonexclusive, paid-up, irrevocable worldwide license   \n",
      "  in this material to reproduce, prepare derivative works, distribute copies    \n",
      "  to the public, perform publicly and display publicly, and to permit others to \n",
      "  do so. This software is open source and available under the BSD-3 License.    \n",
      "                               -----oOo-----                                    \n",
      " \n",
      " \n",
      "Output log file: lagrit.out                                                     \n",
      "Command log file: lagrit.log                                                    \n",
      " \n",
      " \n",
      "\n",
      "cmo/create/mo1/0/0/tet\n",
      "cmo/create/mo1/0/0/tet                                                          \n",
      " \n",
      "\n",
      "cmo select mo1\n",
      "cmo select mo1                                                                  \n",
      " \n",
      "\n",
      "read/points.inp/mo1\n",
      "read/points.inp/mo1                                                             \n",
      "read/avs/points.inp/mo1                                                         \n",
      "                    0                    0\n",
      "cmo/status/brief                                                                \n",
      " \n",
      "The current-mesh-object(CMO) is: mo1                                            \n",
      " \n",
      "  1 Mesh Object name: mo1                                                       \n",
      "    number of nodes =          1500        number of elements =            0    \n",
      "    dimensions geometry =         3        element type =                tet    \n",
      "    dimensions topology =         3        4 nodes      4 faces      6 edges    \n",
      "    boundary flag =        16000000        status =                   active    \n",
      " \n",
      " \n",
      "finish                                                                          \n",
      "finish                                                                          \n",
      " \n",
      "\n",
      "cmo select mo1\n",
      "cmo select mo1                                                                  \n",
      " \n",
      "\n",
      "connect/delaunay\n",
      "connect/delaunay                                                                \n",
      " No materials associated with      1500 noninterface points.                    \n",
      " Coordinates of enclosing tetrahedron are:                                      \n",
      "          -0.57500D+04   -0.57500D+04   -0.99970D+04                            \n",
      "          -0.57500D+04    0.39250D+05    0.25005D+04                            \n",
      "          -0.57500D+04   -0.57500D+04    0.14998D+05                            \n",
      "           0.39250D+05    0.55000D+04    0.25005D+04                            \n",
      " Candidate connections that may cross boundaries =      2764                    \n",
      " \n",
      " Successfully eliminated all multimaterial connections.                         \n",
      " \n",
      " The mesh is now complete!                                                      \n",
      " \n",
      "LaGriT FINISH: connect                                                          \n",
      " \n",
      " \n",
      "\n",
      "cmo select mo1\n",
      "cmo select mo1                                                                  \n",
      " \n",
      "\n",
      "dump/test1_grid_coords.inp/mo1\n",
      "dump/test1_grid_coords.inp/mo1                                                  \n",
      "dump/avs/test1_grid_coords.inp/mo1                                              \n",
      "cmo/modatt/-def-/-def-/ioflag/x                                                 \n",
      "finish                                                                          \n",
      "finish                                                                          \n",
      " \n",
      "\n",
      "cmo select mo1\n",
      "cmo select mo1                                                                  \n",
      " \n",
      "\n",
      "dump/fehm/test1_grid_coords/mo1\n",
      "dump/fehm/test1_grid_coords/mo1                                                 \n",
      "*** Write FEHMN GEOM AND ZONE FILES ***                                         \n",
      "*********dump_material_lists********                                            \n",
      "Minimum material ID value =      1                                              \n",
      "Maximum material ID value =      1                                              \n",
      "Total possible materials  =      1                                              \n",
      "Material           1 has      1500 nodes. #nodes/nnodes is    1.00000000000     \n",
      "*********dump_interface_list********                                            \n",
      "*********dump_multi_material_list********                                       \n",
      "log/tty/off                                                                     \n",
      "finish                                                                          \n",
      "*********dump_outside_list********                                              \n",
      "Voronoi Areas used for outside faces.                                           \n",
      " \n",
      "assign_quadrant_id epsilon for zero:   1.0000000E-15                            \n",
      " \n",
      "WARNING: itp1 not set for this mesh - use resetpts/itp                          \n",
      " \n",
      "          1332 Voronoi vectors computed.\n",
      "cmo/addatt/mo1/top/vint/scalar/nnodes/linear/permanent/afgx/-5.0/               \n",
      "finish                                                                          \n",
      "cmo/addatt/mo1/bottom/vint/scalar/nnodes/linear/permanent/afgx/-5.0/            \n",
      "finish                                                                          \n",
      "cmo/addatt/mo1/left_w/vint/scalar/nnodes/linear/permanent/afgx/-5.0/            \n",
      "finish                                                                          \n",
      "cmo/addatt/mo1/right_e/vint/scalar/nnodes/linear/permanent/afgx/-5.0/           \n",
      "finish                                                                          \n",
      "cmo/addatt/mo1/back_n/vint/scalar/nnodes/linear/permanent/afgx/-5.0/            \n",
      "finish                                                                          \n",
      "cmo/addatt/mo1/front_s/vint/scalar/nnodes/linear/permanent/afgx/-5.0/           \n",
      "finish                                                                          \n",
      "cmo/DELATT//top                                                                 \n",
      "finish                                                                          \n",
      "cmo/DELATT//bottom                                                              \n",
      "finish                                                                          \n",
      "cmo/DELATT//left_w                                                              \n",
      "finish                                                                          \n",
      "cmo/DELATT//right_e                                                             \n",
      "finish                                                                          \n",
      "cmo/DELATT//back_n                                                              \n",
      "finish                                                                          \n",
      "cmo/DELATT//front_s                                                             \n",
      "finish                                                                          \n",
      "log/tty/on                                                                      \n",
      "finish                                                                          \n",
      "*********dump_parent_list********                                               \n",
      " \n",
      "*** Construct and Compress Sparse Matrix:3D ***                                 \n",
      "   *** Compress Area Coefficient Values ***                                     \n",
      " \n",
      "AMatbld3d_stor: Matrix compress_eps:  0.1000000E-07                             \n",
      "AMatbld3d_stor: Local epsilon:  0.1000000E-14                                   \n",
      "\n",
      "SparseMatrix initialize epsilon to 1.000000e-08\n",
      "SparseMatrix using Epsilon 1.000000e-08\n",
      "AMatbld3d_stor: *****Zero Negative Coefficients ******                          \n",
      "AMatbld3d_stor: Number of 'zero' (< compress_eps) coefs         1               \n",
      "AMatbld3d_stor: npoints =     1500  ncoefs =       9702                         \n",
      "AMatbld3d_stor: Number of unique coefs =        27                              \n",
      "AMatbld3d_stor: Maximum num. connections to a node =          8                 \n",
      "AMatbld3d_stor: Volume min =   2.8645833E+07                                    \n",
      "AMatbld3d_stor: Volume max =   7.2891667E+08                                    \n",
      "AMatbld3d_stor: Total Volume:   4.0491900E+11                                   \n",
      "AMatbld3d_stor: abs(Aij/xij) min =   9.1488232E-13                              \n",
      "AMatbld3d_stor: abs(Aij/xij) max =   6.0000000E+03                              \n",
      "AMatbld3d_stor: (Aij/xij) max =  -9.1488232E-13                                 \n",
      "AMatbld3d_stor: (Aij/xij) min =  -6.0000000E+03                                 \n",
      "AMatbld3d_stor Matrix coefficient values stored as scalar area/distance         \n",
      "AMatbld3d_stor Matrix compression used for graph and coefficient values         \n",
      "ascii STOR file written with name test1_grid_coords.stor                        \n",
      " \n",
      "*** SPARSE COEFFICIENT MATRIX _astor SUCCESSFUL ***                             \n",
      " \n",
      "3D Matrix Coefficient file written with name test1_grid_coords.stor             \n",
      " \n",
      " \n"
     ]
    },
    {
     "name": "stderr",
     "output_type": "stream",
     "text": [
      "/usr/local/lib/python3.8/dist-packages/pylagrit-1.0.1-py3.8.egg/pylagrit/pylagrit.py:130: LaGriT_Warning: WARNING: itp1 not set for this mesh - use resetpts/itp                          \n"
     ]
    }
   ],
   "source": [
    "# test running lagrit\n",
    "D.lagrit_exec_filename='/mnt/c/Users/rperrin/Programs/LaGriT/src/lagrit'\n",
    "D.run_lagrit()"
   ]
  },
  {
   "cell_type": "code",
   "execution_count": 13,
   "metadata": {},
   "outputs": [],
   "source": [
    "# test creating input and control files\n",
    "D.write_input_file()\n",
    "D.write_control_file()"
   ]
  }
 ],
 "metadata": {
  "interpreter": {
   "hash": "916dbcbb3f70747c44a77c7bcd40155683ae19c65e1c03b4aa3499c5328201f1"
  },
  "kernelspec": {
   "display_name": "Python 3.8.10 64-bit",
   "name": "python3"
  },
  "language_info": {
   "codemirror_mode": {
    "name": "ipython",
    "version": 3
   },
   "file_extension": ".py",
   "mimetype": "text/x-python",
   "name": "python",
   "nbconvert_exporter": "python",
   "pygments_lexer": "ipython3",
   "version": "3.8.10"
  },
  "orig_nbformat": 4
 },
 "nbformat": 4,
 "nbformat_minor": 2
}
